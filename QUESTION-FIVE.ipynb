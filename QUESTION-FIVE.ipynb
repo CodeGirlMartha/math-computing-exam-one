{
 "cells": [
  {
   "cell_type": "markdown",
   "metadata": {},
   "source": [
    "Question Five\n",
    "write a python program to solve three linear equations using matrices. you can use the numpy library for matrix operations."
   ]
  },
  {
   "cell_type": "code",
   "execution_count": 7,
   "metadata": {},
   "outputs": [
    {
     "name": "stdout",
     "output_type": "stream",
     "text": [
      "[[ 4  1 -2]\n",
      " [-3 -1  2]\n",
      " [-1  3  2]]\n"
     ]
    }
   ],
   "source": [
    "# Coefficients matrix\n",
    "import numpy as np\n",
    "coefficients = np.array([[4, 1, -2],\n",
    "                        [-3, -1, 2],\n",
    "                        [-1, 3, 2]])\n",
    "print(coefficients)"
   ]
  },
  {
   "cell_type": "code",
   "execution_count": 8,
   "metadata": {},
   "outputs": [
    {
     "name": "stdout",
     "output_type": "stream",
     "text": [
      "[ 6 -9 -1]\n"
     ]
    }
   ],
   "source": [
    "# Constants column vector\n",
    "import numpy as np\n",
    "constants = np.array([6, -9, -1])\n",
    "print(constants)\n"
   ]
  },
  {
   "cell_type": "code",
   "execution_count": 9,
   "metadata": {},
   "outputs": [
    {
     "name": "stdout",
     "output_type": "stream",
     "text": [
      "[-3.    3.5  -7.25]\n"
     ]
    }
   ],
   "source": [
    "# Solve the system of equations\n",
    "import numpy as np\n",
    "solution = np.linalg.solve(coefficients, constants)\n",
    "print(solution)"
   ]
  },
  {
   "cell_type": "code",
   "execution_count": 10,
   "metadata": {},
   "outputs": [
    {
     "name": "stdout",
     "output_type": "stream",
     "text": [
      "Solution:\n",
      "x = -3.0\n",
      "y = 3.5\n",
      "z = -7.25\n"
     ]
    }
   ],
   "source": [
    "# Print the solution\n",
    "print(\"Solution:\")\n",
    "print(\"x =\", solution[0])\n",
    "print(\"y =\", solution[1])\n",
    "print(\"z =\", solution[2])\n"
   ]
  }
 ],
 "metadata": {
  "kernelspec": {
   "display_name": "Python 3",
   "language": "python",
   "name": "python3"
  },
  "language_info": {
   "codemirror_mode": {
    "name": "ipython",
    "version": 3
   },
   "file_extension": ".py",
   "mimetype": "text/x-python",
   "name": "python",
   "nbconvert_exporter": "python",
   "pygments_lexer": "ipython3",
   "version": "3.11.6"
  }
 },
 "nbformat": 4,
 "nbformat_minor": 2
}
