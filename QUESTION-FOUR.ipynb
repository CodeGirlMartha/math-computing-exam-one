{
 "cells": [
  {
   "cell_type": "markdown",
   "metadata": {},
   "source": [
    "Question Four\n",
    "construct a matrix below;[1, 0.2, 0.5\n",
    "                          0.2, 1, 0.8\n",
    "                          0.5, 0.8, 1] as a numpy array.\n",
    "a. compute an inversion of t6he matrix(transpose)\n",
    "b. Computer the (determinat) of the matrix if possible\n",
    "c. Decompose the matrix.\n",
    "d. Transform the matrix."
   ]
  },
  {
   "cell_type": "code",
   "execution_count": 2,
   "metadata": {},
   "outputs": [
    {
     "name": "stdout",
     "output_type": "stream",
     "text": [
      "Original Matrix:\n",
      "[[1.  0.2 0.5]\n",
      " [0.2 1.  0.8]\n",
      " [0.5 0.8 1. ]]\n",
      "\n",
      "Inverse Matrix (Transpose):\n",
      "[[ 1.56521739  0.86956522 -1.47826087]\n",
      " [ 0.86956522  3.26086957 -3.04347826]\n",
      " [-1.47826087 -3.04347826  4.17391304]]\n"
     ]
    }
   ],
   "source": [
    "import numpy as np\n",
    "\n",
    "# Create the matrix\n",
    "matrix = np.array([[1, 0.2, 0.5],\n",
    "                   [0.2, 1, 0.8],\n",
    "                   [0.5, 0.8, 1]])\n",
    "\n",
    "# Compute the inverse (transpose) of the matrix\n",
    "inverse_matrix = np.linalg.inv(matrix)\n",
    "\n",
    "print(\"Original Matrix:\")\n",
    "print(matrix)\n",
    "\n",
    "print(\"\\nInverse Matrix (Transpose):\")\n",
    "print(inverse_matrix)"
   ]
  },
  {
   "cell_type": "code",
   "execution_count": 3,
   "metadata": {},
   "outputs": [
    {
     "name": "stdout",
     "output_type": "stream",
     "text": [
      "\n",
      "Determinant of the Matrix: 0.2299999999999999\n"
     ]
    }
   ],
   "source": [
    "# Compute the determinant of the matrix\n",
    "determinant = np.linalg.det(matrix)\n",
    "\n",
    "print(\"\\nDeterminant of the Matrix:\", determinant)"
   ]
  },
  {
   "cell_type": "code",
   "execution_count": 14,
   "metadata": {},
   "outputs": [
    {
     "name": "stderr",
     "output_type": "stream",
     "text": [
      "<>:3: SyntaxWarning: 'str' object is not callable; perhaps you missed a comma?\n",
      "<>:3: SyntaxWarning: 'str' object is not callable; perhaps you missed a comma?\n"
     ]
    },
    {
     "ename": "TypeError",
     "evalue": "'module' object is not callable",
     "output_type": "error",
     "traceback": [
      "\u001b[1;31m---------------------------------------------------------------------------\u001b[0m",
      "\u001b[1;31mTypeError\u001b[0m                                 Traceback (most recent call last)",
      "\u001b[1;32mUntitled-4.ipynb Cell 4\u001b[0m line \u001b[0;36m2\n\u001b[0;32m      <a href='vscode-notebook-cell:Untitled-4.ipynb?jupyter-notebook#X11sdW50aXRsZWQ%3D?line=0'>1</a>\u001b[0m \u001b[39m#matrix decomposition (LU decomposition)\u001b[39;00m\n\u001b[1;32m----> <a href='vscode-notebook-cell:Untitled-4.ipynb?jupyter-notebook#X11sdW50aXRsZWQ%3D?line=1'>2</a>\u001b[0m lu_decomposition \u001b[39m=\u001b[39m np\u001b[39m.\u001b[39;49mlinalg(matrix)\n\u001b[0;32m      <a href='vscode-notebook-cell:Untitled-4.ipynb?jupyter-notebook#X11sdW50aXRsZWQ%3D?line=2'>3</a>\u001b[0m \u001b[39m\"\u001b[39m\u001b[39mmyFunction\u001b[39m\u001b[39m\"\u001b[39m(lu_decomposition)\n\u001b[0;32m      <a href='vscode-notebook-cell:Untitled-4.ipynb?jupyter-notebook#X11sdW50aXRsZWQ%3D?line=3'>4</a>\u001b[0m \u001b[39mprint\u001b[39m(\u001b[39m\"\u001b[39m\u001b[39m\\n\u001b[39;00m\u001b[39mLU Decomposition:\u001b[39m\u001b[39m\"\u001b[39m)\n",
      "\u001b[1;31mTypeError\u001b[0m: 'module' object is not callable"
     ]
    }
   ],
   "source": [
    "#matrix decomposition (LU decomposition)\n",
    "lu_decomposition = np.linalg(matrix)\n",
    "\"myFunction\"(lu_decomposition)\n",
    "print(\"\\nLU Decomposition:\")\n",
    "print(\"L matrix:\")\n",
    "print(lu_decomposition[1])\n",
    "print(\"U matrix:\")\n",
    "print(lu_decomposition[2])"
   ]
  },
  {
   "cell_type": "code",
   "execution_count": 10,
   "metadata": {},
   "outputs": [
    {
     "name": "stdout",
     "output_type": "stream",
     "text": [
      "\n",
      "Original Matrix:\n",
      "[[1.  0.2 0.5]\n",
      " [0.2 1.  0.8]\n",
      " [0.5 0.8 1. ]]\n",
      "\n",
      "Transformed Matrix (Scaled by 2):\n",
      "[[2.  0.4 1. ]\n",
      " [0.4 2.  1.6]\n",
      " [1.  1.6 2. ]]\n"
     ]
    }
   ],
   "source": [
    "# Transform the matrix (scaling by a factor of 2)\n",
    "scaled_matrix = matrix * 2\n",
    "\n",
    "print(\"\\nOriginal Matrix:\")\n",
    "print(matrix)\n",
    "print(\"\\nTransformed Matrix (Scaled by 2):\")\n",
    "print(scaled_matrix)"
   ]
  }
 ],
 "metadata": {
  "kernelspec": {
   "display_name": "Python 3",
   "language": "python",
   "name": "python3"
  },
  "language_info": {
   "codemirror_mode": {
    "name": "ipython",
    "version": 3
   },
   "file_extension": ".py",
   "mimetype": "text/x-python",
   "name": "python",
   "nbconvert_exporter": "python",
   "pygments_lexer": "ipython3",
   "version": "3.11.6"
  }
 },
 "nbformat": 4,
 "nbformat_minor": 2
}
